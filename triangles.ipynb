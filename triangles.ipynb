{
 "cells": [
  {
   "cell_type": "code",
   "execution_count": 10,
   "id": "093ad715",
   "metadata": {},
   "outputs": [
    {
     "name": "stdout",
     "output_type": "stream",
     "text": [
      "Введите три стороны треугольника: \n"
     ]
    }
   ],
   "source": [
    "print(\"Введите три стороны треугольника: \", sep=\"\")\n",
    "a, b, c = map(int, input().split())\n",
    "\n",
    "if (a != 0 or b != 0 or c != 0):\n",
    "    if (a + b > c and a + c > b and b + c > a):\n",
    "        if (a == b == c):\n",
    "            print(\"Равносторонний треугольник\")\n",
    "        elif (a == b or b == c or a == c):\n",
    "            print(\"Равнобедренный треугольник\")\n",
    "        else:\n",
    "            print(\"Возможно построить треугольник\")\n",
    "        \n",
    "        if (a**2 == b**2 + c**2 or b**2 == a**2 + c**2 or c**2 == b**2 + a**2):\n",
    "            print(\"Прямоугольный треугольник\")\n",
    "    else:\n",
    "        print(\"Невозможно построить треугольник\")\n",
    "else:\n",
    "    print(\"Невозможно построить треугольник\")"
   ]
  }
 ],
 "metadata": {
  "kernelspec": {
   "display_name": "Python 3 (ipykernel)",
   "language": "python",
   "name": "python3"
  },
  "language_info": {
   "codemirror_mode": {
    "name": "ipython",
    "version": 3
   },
   "file_extension": ".py",
   "mimetype": "text/x-python",
   "name": "python",
   "nbconvert_exporter": "python",
   "pygments_lexer": "ipython3",
   "version": "3.9.7"
  }
 },
 "nbformat": 4,
 "nbformat_minor": 5
}
